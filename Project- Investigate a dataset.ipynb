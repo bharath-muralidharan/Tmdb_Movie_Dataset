{
 "cells": [
  {
   "cell_type": "markdown",
   "metadata": {},
   "source": [
    "# INTRODUCTION"
   ]
  },
  {
   "cell_type": "markdown",
   "metadata": {},
   "source": [
    "The Dataset used for investigation is the TMDb movie data.\n",
    "The dataset consists of \n",
    "        Rows:10866(without headers)\n",
    "        Columns:21\n",
    "The questions to be answered are:\n",
    "        * How the runtime and revenues have varied over time?\n",
    "        * Runtime of most of the movies over the years\n",
    "        * The most profitable actors and profitable production companies.\n",
    "        * How many of each actors movie had released?\n",
    "        * How many of each genres had released?\n",
    "        * Popular genre and profitable genre\n",
    "        * The most and least popular movie\n",
    "        * The most and least profitable movie\n",
    "Trends to be explored in the dataset:\n",
    "        * Runtime variation over the years\n",
    "        * Revenue variation over the years\n",
    "        * profit variation over the years\n",
    "        * popularity variation over the years"
   ]
  },
  {
   "cell_type": "markdown",
   "metadata": {},
   "source": [
    "## __Data Wrangling__"
   ]
  },
  {
   "cell_type": "markdown",
   "metadata": {},
   "source": [
    "We check for duplicate entries and remove them,try to remove the data entries without any entries or null values.\n",
    "Has removed the entries of overview,tagline,homepage,keywords as these seemed to be irrelevant for the analysis.Rows with null values of imdb_id has also been removed.There are rows with value 0 as budget,revenue,runtime these has also been removed."
   ]
  },
  {
   "cell_type": "code",
   "execution_count": 1,
   "metadata": {},
   "outputs": [],
   "source": [
    "#import statements for packages to be used\n",
    "import csv # read and write csv files\n",
    "import pandas as pd\n",
    "import numpy as np\n",
    "from datetime import datetime # operations to parse dates\n",
    "import matplotlib.pyplot as plt\n",
    "% matplotlib inline"
   ]
  },
  {
   "cell_type": "code",
   "execution_count": 2,
   "metadata": {},
   "outputs": [
    {
     "name": "stdout",
     "output_type": "stream",
     "text": [
      "       id    imdb_id  popularity     budget     revenue  \\\n",
      "0  135397  tt0369610   32.985763  150000000  1513528810   \n",
      "1   76341  tt1392190   28.419936  150000000   378436354   \n",
      "2  262500  tt2908446   13.112507  110000000   295238201   \n",
      "3  140607  tt2488496   11.173104  200000000  2068178225   \n",
      "4  168259  tt2820852    9.335014  190000000  1506249360   \n",
      "\n",
      "                 original_title  \\\n",
      "0                Jurassic World   \n",
      "1            Mad Max: Fury Road   \n",
      "2                     Insurgent   \n",
      "3  Star Wars: The Force Awakens   \n",
      "4                     Furious 7   \n",
      "\n",
      "                                                cast  \\\n",
      "0  Chris Pratt|Bryce Dallas Howard|Irrfan Khan|Vi...   \n",
      "1  Tom Hardy|Charlize Theron|Hugh Keays-Byrne|Nic...   \n",
      "2  Shailene Woodley|Theo James|Kate Winslet|Ansel...   \n",
      "3  Harrison Ford|Mark Hamill|Carrie Fisher|Adam D...   \n",
      "4  Vin Diesel|Paul Walker|Jason Statham|Michelle ...   \n",
      "\n",
      "                                            homepage          director  \\\n",
      "0                      http://www.jurassicworld.com/   Colin Trevorrow   \n",
      "1                        http://www.madmaxmovie.com/     George Miller   \n",
      "2     http://www.thedivergentseries.movie/#insurgent  Robert Schwentke   \n",
      "3  http://www.starwars.com/films/star-wars-episod...       J.J. Abrams   \n",
      "4                           http://www.furious7.com/         James Wan   \n",
      "\n",
      "                         tagline      ...       \\\n",
      "0              The park is open.      ...        \n",
      "1             What a Lovely Day.      ...        \n",
      "2     One Choice Can Destroy You      ...        \n",
      "3  Every generation has a story.      ...        \n",
      "4            Vengeance Hits Home      ...        \n",
      "\n",
      "                                            overview runtime  \\\n",
      "0  Twenty-two years after the events of Jurassic ...     124   \n",
      "1  An apocalyptic story set in the furthest reach...     120   \n",
      "2  Beatrice Prior must confront her inner demons ...     119   \n",
      "3  Thirty years after defeating the Galactic Empi...     136   \n",
      "4  Deckard Shaw seeks revenge against Dominic Tor...     137   \n",
      "\n",
      "                                      genres  \\\n",
      "0  Action|Adventure|Science Fiction|Thriller   \n",
      "1  Action|Adventure|Science Fiction|Thriller   \n",
      "2         Adventure|Science Fiction|Thriller   \n",
      "3   Action|Adventure|Science Fiction|Fantasy   \n",
      "4                      Action|Crime|Thriller   \n",
      "\n",
      "                                production_companies release_date vote_count  \\\n",
      "0  Universal Studios|Amblin Entertainment|Legenda...       6/9/15       5562   \n",
      "1  Village Roadshow Pictures|Kennedy Miller Produ...      5/13/15       6185   \n",
      "2  Summit Entertainment|Mandeville Films|Red Wago...      3/18/15       2480   \n",
      "3          Lucasfilm|Truenorth Productions|Bad Robot     12/15/15       5292   \n",
      "4  Universal Pictures|Original Film|Media Rights ...       4/1/15       2947   \n",
      "\n",
      "   vote_average  release_year    budget_adj   revenue_adj  \n",
      "0           6.5          2015  1.379999e+08  1.392446e+09  \n",
      "1           7.1          2015  1.379999e+08  3.481613e+08  \n",
      "2           6.3          2015  1.012000e+08  2.716190e+08  \n",
      "3           7.5          2015  1.839999e+08  1.902723e+09  \n",
      "4           7.3          2015  1.747999e+08  1.385749e+09  \n",
      "\n",
      "[5 rows x 21 columns]\n",
      "No of duplicates 1\n",
      "<class 'pandas.core.frame.DataFrame'>\n",
      "RangeIndex: 10866 entries, 0 to 10865\n",
      "Data columns (total 21 columns):\n",
      "id                      10866 non-null int64\n",
      "imdb_id                 10856 non-null object\n",
      "popularity              10866 non-null float64\n",
      "budget                  10866 non-null int64\n",
      "revenue                 10866 non-null int64\n",
      "original_title          10866 non-null object\n",
      "cast                    10790 non-null object\n",
      "homepage                2936 non-null object\n",
      "director                10822 non-null object\n",
      "tagline                 8042 non-null object\n",
      "keywords                9373 non-null object\n",
      "overview                10862 non-null object\n",
      "runtime                 10866 non-null int64\n",
      "genres                  10843 non-null object\n",
      "production_companies    9836 non-null object\n",
      "release_date            10866 non-null object\n",
      "vote_count              10866 non-null int64\n",
      "vote_average            10866 non-null float64\n",
      "release_year            10866 non-null int64\n",
      "budget_adj              10866 non-null float64\n",
      "revenue_adj             10866 non-null float64\n",
      "dtypes: float64(4), int64(6), object(11)\n",
      "memory usage: 1.7+ MB\n",
      "None\n"
     ]
    }
   ],
   "source": [
    "## Read the csv file for analysing\n",
    "## the csv file is loaded into md or movie_data\n",
    "md = pd.read_csv('tmdb-movies.csv')\n",
    "print(md.head()) #to verify if the data has been read\n",
    "print(\"No of duplicates {}\".format(md.duplicated().sum())) ## checking for duplicates\n",
    "print(md.info())"
   ]
  },
  {
   "cell_type": "code",
   "execution_count": 3,
   "metadata": {},
   "outputs": [
    {
     "data": {
      "text/plain": [
       "(10866, 21)"
      ]
     },
     "execution_count": 3,
     "metadata": {},
     "output_type": "execute_result"
    }
   ],
   "source": [
    "md.shape #number of rows and columns"
   ]
  },
  {
   "cell_type": "code",
   "execution_count": 4,
   "metadata": {},
   "outputs": [],
   "source": [
    "## Removed the overview,tagline,homepage\n",
    "## columns as these are not needed for us.\n",
    "\n",
    "def condense_data(pandaData):\n",
    "    pandaData.drop(['overview'],axis=1,inplace = True)\n",
    "    pandaData.drop(['tagline'],axis=1,inplace = True)\n",
    "    pandaData.drop(['homepage'],axis=1,inplace = True)\n",
    "    pandaData.drop(['keywords'],axis=1,inplace = True)\n",
    "    pandaData.drop_duplicates(inplace=True) # Remove duplicate rows"
   ]
  },
  {
   "cell_type": "code",
   "execution_count": 5,
   "metadata": {
    "scrolled": false
   },
   "outputs": [
    {
     "name": "stdout",
     "output_type": "stream",
     "text": [
      "       id    imdb_id  popularity     budget     revenue  \\\n",
      "0  135397  tt0369610   32.985763  150000000  1513528810   \n",
      "1   76341  tt1392190   28.419936  150000000   378436354   \n",
      "2  262500  tt2908446   13.112507  110000000   295238201   \n",
      "3  140607  tt2488496   11.173104  200000000  2068178225   \n",
      "4  168259  tt2820852    9.335014  190000000  1506249360   \n",
      "\n",
      "                 original_title  \\\n",
      "0                Jurassic World   \n",
      "1            Mad Max: Fury Road   \n",
      "2                     Insurgent   \n",
      "3  Star Wars: The Force Awakens   \n",
      "4                     Furious 7   \n",
      "\n",
      "                                                cast          director  \\\n",
      "0  Chris Pratt|Bryce Dallas Howard|Irrfan Khan|Vi...   Colin Trevorrow   \n",
      "1  Tom Hardy|Charlize Theron|Hugh Keays-Byrne|Nic...     George Miller   \n",
      "2  Shailene Woodley|Theo James|Kate Winslet|Ansel...  Robert Schwentke   \n",
      "3  Harrison Ford|Mark Hamill|Carrie Fisher|Adam D...       J.J. Abrams   \n",
      "4  Vin Diesel|Paul Walker|Jason Statham|Michelle ...         James Wan   \n",
      "\n",
      "   runtime                                     genres  \\\n",
      "0      124  Action|Adventure|Science Fiction|Thriller   \n",
      "1      120  Action|Adventure|Science Fiction|Thriller   \n",
      "2      119         Adventure|Science Fiction|Thriller   \n",
      "3      136   Action|Adventure|Science Fiction|Fantasy   \n",
      "4      137                      Action|Crime|Thriller   \n",
      "\n",
      "                                production_companies release_date  vote_count  \\\n",
      "0  Universal Studios|Amblin Entertainment|Legenda...       6/9/15        5562   \n",
      "1  Village Roadshow Pictures|Kennedy Miller Produ...      5/13/15        6185   \n",
      "2  Summit Entertainment|Mandeville Films|Red Wago...      3/18/15        2480   \n",
      "3          Lucasfilm|Truenorth Productions|Bad Robot     12/15/15        5292   \n",
      "4  Universal Pictures|Original Film|Media Rights ...       4/1/15        2947   \n",
      "\n",
      "   vote_average  release_year    budget_adj   revenue_adj  \n",
      "0           6.5          2015  1.379999e+08  1.392446e+09  \n",
      "1           7.1          2015  1.379999e+08  3.481613e+08  \n",
      "2           6.3          2015  1.012000e+08  2.716190e+08  \n",
      "3           7.5          2015  1.839999e+08  1.902723e+09  \n",
      "4           7.3          2015  1.747999e+08  1.385749e+09  \n",
      "<class 'pandas.core.frame.DataFrame'>\n",
      "Int64Index: 10865 entries, 0 to 10865\n",
      "Data columns (total 17 columns):\n",
      "id                      10865 non-null int64\n",
      "imdb_id                 10855 non-null object\n",
      "popularity              10865 non-null float64\n",
      "budget                  10865 non-null int64\n",
      "revenue                 10865 non-null int64\n",
      "original_title          10865 non-null object\n",
      "cast                    10789 non-null object\n",
      "director                10821 non-null object\n",
      "runtime                 10865 non-null int64\n",
      "genres                  10842 non-null object\n",
      "production_companies    9835 non-null object\n",
      "release_date            10865 non-null object\n",
      "vote_count              10865 non-null int64\n",
      "vote_average            10865 non-null float64\n",
      "release_year            10865 non-null int64\n",
      "budget_adj              10865 non-null float64\n",
      "revenue_adj             10865 non-null float64\n",
      "dtypes: float64(4), int64(6), object(7)\n",
      "memory usage: 1.5+ MB\n",
      "None\n",
      "No of duplicates 0\n"
     ]
    }
   ],
   "source": [
    "condense_data(md)\n",
    "print(md.head())\n",
    "print(md.info())  ## to check if duplicates are removed\n",
    "print(\"No of duplicates {}\".format(md.duplicated().sum()))"
   ]
  },
  {
   "cell_type": "markdown",
   "metadata": {},
   "source": [
    "We see that the number of duplicate entries has become 0 and was able to remove the columns tagline,overview,homepage,keywords."
   ]
  },
  {
   "cell_type": "code",
   "execution_count": 6,
   "metadata": {},
   "outputs": [
    {
     "data": {
      "text/plain": [
       "id                         0\n",
       "imdb_id                   10\n",
       "popularity                 0\n",
       "budget                     0\n",
       "revenue                    0\n",
       "original_title             0\n",
       "cast                      76\n",
       "director                  44\n",
       "runtime                    0\n",
       "genres                    23\n",
       "production_companies    1030\n",
       "release_date               0\n",
       "vote_count                 0\n",
       "vote_average               0\n",
       "release_year               0\n",
       "budget_adj                 0\n",
       "revenue_adj                0\n",
       "dtype: int64"
      ]
     },
     "execution_count": 6,
     "metadata": {},
     "output_type": "execute_result"
    }
   ],
   "source": [
    "## Checking for null values\n",
    "md.isnull().sum()"
   ]
  },
  {
   "cell_type": "markdown",
   "metadata": {},
   "source": [
    "We see that we have null values in certain columns only. The imdb_id is relevant to us as it is the unique id which distinguishes all these movies,the remaining columns with null values are not of interest to us in this analysis. So we remove the rows with null values of imdb_id  "
   ]
  },
  {
   "cell_type": "code",
   "execution_count": 7,
   "metadata": {},
   "outputs": [
    {
     "name": "stdout",
     "output_type": "stream",
     "text": [
      "<class 'pandas.core.frame.DataFrame'>\n",
      "Int64Index: 10855 entries, 0 to 10865\n",
      "Data columns (total 17 columns):\n",
      "id                      10855 non-null int64\n",
      "imdb_id                 10855 non-null object\n",
      "popularity              10855 non-null float64\n",
      "budget                  10855 non-null int64\n",
      "revenue                 10855 non-null int64\n",
      "original_title          10855 non-null object\n",
      "cast                    10779 non-null object\n",
      "director                10815 non-null object\n",
      "runtime                 10855 non-null int64\n",
      "genres                  10834 non-null object\n",
      "production_companies    9830 non-null object\n",
      "release_date            10855 non-null object\n",
      "vote_count              10855 non-null int64\n",
      "vote_average            10855 non-null float64\n",
      "release_year            10855 non-null int64\n",
      "budget_adj              10855 non-null float64\n",
      "revenue_adj             10855 non-null float64\n",
      "dtypes: float64(4), int64(6), object(7)\n",
      "memory usage: 1.5+ MB\n"
     ]
    }
   ],
   "source": [
    "md.dropna(subset=['imdb_id'], inplace=True)## drop rows with null value of imdb_id\n",
    "md.info()"
   ]
  },
  {
   "cell_type": "markdown",
   "metadata": {},
   "source": [
    "We see that the number of entries for every column has reduced by a number."
   ]
  },
  {
   "cell_type": "markdown",
   "metadata": {},
   "source": [
    "We also remove the rows with value as 0 for budget,revenue,runtime as these can produce noise in our analysis. "
   ]
  },
  {
   "cell_type": "code",
   "execution_count": 8,
   "metadata": {},
   "outputs": [],
   "source": [
    "# replace 0 with Nan\n",
    "md['revenue'] = md['revenue'].replace(0,np.NaN)\n",
    "md['budget'] = md['budget'].replace(0,np.NaN)\n",
    "md['runtime'] = md['runtime'].replace(0,np.NaN)"
   ]
  },
  {
   "cell_type": "code",
   "execution_count": 9,
   "metadata": {},
   "outputs": [
    {
     "name": "stdout",
     "output_type": "stream",
     "text": [
      "<class 'pandas.core.frame.DataFrame'>\n",
      "Int64Index: 3806 entries, 0 to 10848\n",
      "Data columns (total 17 columns):\n",
      "id                      3806 non-null int64\n",
      "imdb_id                 3806 non-null object\n",
      "popularity              3806 non-null float64\n",
      "budget                  3806 non-null float64\n",
      "revenue                 3806 non-null float64\n",
      "original_title          3806 non-null object\n",
      "cast                    3806 non-null object\n",
      "director                3805 non-null object\n",
      "runtime                 3806 non-null float64\n",
      "genres                  3806 non-null object\n",
      "production_companies    3806 non-null object\n",
      "release_date            3806 non-null object\n",
      "vote_count              3806 non-null int64\n",
      "vote_average            3806 non-null float64\n",
      "release_year            3806 non-null int64\n",
      "budget_adj              3806 non-null float64\n",
      "revenue_adj             3806 non-null float64\n",
      "dtypes: float64(7), int64(3), object(7)\n",
      "memory usage: 535.2+ KB\n"
     ]
    }
   ],
   "source": [
    "# drop rows having null value in columns revenue,budget,runtime\n",
    "md.dropna(subset =['revenue'],inplace=True)\n",
    "md.dropna(subset =['budget'],inplace=True)\n",
    "md.dropna(subset =['runtime'],inplace=True)\n",
    "md.dropna(subset =['production_companies'],inplace=True)\n",
    "md.dropna(subset =['cast'],inplace=True) ## also removed null values of cast and production companies as these are used \n",
    "md.info()                                ## in our analysis."
   ]
  },
  {
   "cell_type": "markdown",
   "metadata": {},
   "source": [
    "After the data wrangling phase we have only 3806 entries with 17 columns. We do our analysis on the dataframe obtained after cleaning."
   ]
  },
  {
   "cell_type": "code",
   "execution_count": 10,
   "metadata": {},
   "outputs": [
    {
     "data": {
      "text/plain": [
       "id                      0\n",
       "imdb_id                 0\n",
       "popularity              0\n",
       "budget                  0\n",
       "revenue                 0\n",
       "original_title          0\n",
       "cast                    0\n",
       "director                1\n",
       "runtime                 0\n",
       "genres                  0\n",
       "production_companies    0\n",
       "release_date            0\n",
       "vote_count              0\n",
       "vote_average            0\n",
       "release_year            0\n",
       "budget_adj              0\n",
       "revenue_adj             0\n",
       "dtype: int64"
      ]
     },
     "execution_count": 10,
     "metadata": {},
     "output_type": "execute_result"
    }
   ],
   "source": [
    "## checking if there are any more null values\n",
    "md.isnull().sum()"
   ]
  },
  {
   "cell_type": "markdown",
   "metadata": {},
   "source": [
    "We see that we have a null value in director column but since we are not doing analysis on directors we don't remove the row."
   ]
  },
  {
   "cell_type": "code",
   "execution_count": 11,
   "metadata": {},
   "outputs": [],
   "source": [
    "# save into a new clean dataset for ease of analysis\n",
    "# we will use this dataset for analysis\n",
    "md.to_csv('movie_tmdb.csv', index=False)"
   ]
  },
  {
   "cell_type": "markdown",
   "metadata": {},
   "source": [
    "# Data Exploration "
   ]
  },
  {
   "cell_type": "code",
   "execution_count": 12,
   "metadata": {},
   "outputs": [
    {
     "name": "stdout",
     "output_type": "stream",
     "text": [
      "<class 'pandas.core.frame.DataFrame'>\n",
      "RangeIndex: 3806 entries, 0 to 3805\n",
      "Data columns (total 17 columns):\n",
      "id                      3806 non-null int64\n",
      "imdb_id                 3806 non-null object\n",
      "popularity              3806 non-null float64\n",
      "budget                  3806 non-null float64\n",
      "revenue                 3806 non-null float64\n",
      "original_title          3806 non-null object\n",
      "cast                    3806 non-null object\n",
      "director                3805 non-null object\n",
      "runtime                 3806 non-null float64\n",
      "genres                  3806 non-null object\n",
      "production_companies    3806 non-null object\n",
      "release_date            3806 non-null object\n",
      "vote_count              3806 non-null int64\n",
      "vote_average            3806 non-null float64\n",
      "release_year            3806 non-null int64\n",
      "budget_adj              3806 non-null float64\n",
      "revenue_adj             3806 non-null float64\n",
      "dtypes: float64(7), int64(3), object(7)\n",
      "memory usage: 505.6+ KB\n"
     ]
    }
   ],
   "source": [
    "# reading data from the new cleaned dataset\n",
    "\n",
    "md_tmdb = pd.read_csv('movie_tmdb.csv')\n",
    "md_tmdb.info() # to  verify if the data read is same as "
   ]
  },
  {
   "cell_type": "markdown",
   "metadata": {},
   "source": [
    "## _Runtime and Revenue variation_ ##"
   ]
  },
  {
   "cell_type": "markdown",
   "metadata": {},
   "source": [
    "    * We wanted to check how runtime and revenues varied over time\n",
    "    * We wish to find the most common run time\n",
    "Since we are interested in variations over time we group the entries by the year,have used histogram and line graphs for the visualisation."
   ]
  },
  {
   "cell_type": "code",
   "execution_count": 13,
   "metadata": {},
   "outputs": [
    {
     "name": "stdout",
     "output_type": "stream",
     "text": [
      "<class 'pandas.core.frame.DataFrame'>\n",
      "Int64Index: 56 entries, 1960 to 2015\n",
      "Data columns (total 9 columns):\n",
      "id              56 non-null float64\n",
      "popularity      56 non-null float64\n",
      "budget          56 non-null float64\n",
      "revenue         56 non-null float64\n",
      "runtime         56 non-null float64\n",
      "vote_count      56 non-null float64\n",
      "vote_average    56 non-null float64\n",
      "budget_adj      56 non-null float64\n",
      "revenue_adj     56 non-null float64\n",
      "dtypes: float64(9)\n",
      "memory usage: 4.4 KB\n"
     ]
    }
   ],
   "source": [
    "##We use md_new frame to find variations over the year\n",
    "md_new = md_tmdb.groupby('release_year').mean()\n",
    "md_new.info()"
   ]
  },
  {
   "cell_type": "markdown",
   "metadata": {},
   "source": [
    "We see that we are dealing with data from 56 years, we have grouped the entries by year."
   ]
  },
  {
   "cell_type": "code",
   "execution_count": 14,
   "metadata": {},
   "outputs": [
    {
     "data": {
      "text/plain": [
       "count     56.000000\n",
       "mean     114.930985\n",
       "std       12.162861\n",
       "min      103.304348\n",
       "25%      107.894561\n",
       "50%      109.961253\n",
       "75%      118.346154\n",
       "max      167.600000\n",
       "Name: runtime, dtype: float64"
      ]
     },
     "execution_count": 14,
     "metadata": {},
     "output_type": "execute_result"
    }
   ],
   "source": [
    "## Answering the questioning mathematically\n",
    "md_new['runtime'].describe()"
   ]
  },
  {
   "cell_type": "markdown",
   "metadata": {},
   "source": [
    "The mean of runtime over the years has been between 114 and 115 minutes."
   ]
  },
  {
   "cell_type": "code",
   "execution_count": 15,
   "metadata": {},
   "outputs": [
    {
     "data": {
      "image/png": "[encoded data removed]",
      "text/plain": [
       "<Figure size 432x288 with 1 Axes>"
      ]
     },
     "metadata": {},
     "output_type": "display_data"
    }
   ],
   "source": [
    "md_new['runtime'].hist(bins = 56)\n",
    "plt.xlabel('Runtime')\n",
    "plt.ylabel('Counts') # the number of times the duration has occured over the years \n",
    "plt.xticks(np.arange(100,170,step=5))\n",
    "plt.title('Runtime Over the Years');"
   ]
  },
  {
   "cell_type": "markdown",
   "metadata": {},
   "source": [
    "We see that the distribution is right skewed,most of the runtimes were in between 107 & 109."
   ]
  },
  {
   "cell_type": "markdown",
   "metadata": {},
   "source": [
    "We'd like to know what revenue will a movie generate,is there a typical revenue generated."
   ]
  },
  {
   "cell_type": "code",
   "execution_count": 16,
   "metadata": {},
   "outputs": [
    {
     "data": {
      "text/plain": [
       "count    5.600000e+01\n",
       "mean     8.310753e+07\n",
       "std      3.534136e+07\n",
       "min      1.694734e+07\n",
       "25%      5.571929e+07\n",
       "50%      8.951281e+07\n",
       "75%      1.081116e+08\n",
       "max      1.637683e+08\n",
       "Name: revenue, dtype: float64"
      ]
     },
     "execution_count": 16,
     "metadata": {},
     "output_type": "execute_result"
    },
    {
     "data": {
      "image/png": "[encoded data removed]",
      "text/plain": [
       "<Figure size 432x288 with 1 Axes>"
      ]
     },
     "metadata": {},
     "output_type": "display_data"
    }
   ],
   "source": [
    "md_new['revenue'].hist(bins=56)\n",
    "plt.xlabel('Revenue')\n",
    "plt.ylabel('Counts') # the number of times the revenue was generated over the years \n",
    "plt.title('Revenue Over the Years');\n",
    "md_new['revenue'].describe()"
   ]
  },
  {
   "cell_type": "markdown",
   "metadata": {},
   "source": [
    "Revenues vary widely,Most movie revenues fall in the 0.8e+07 to 1.0e+08 ranges.Mean of Revenues over the years:8.31e+07"
   ]
  },
  {
   "cell_type": "code",
   "execution_count": 16,
   "metadata": {},
   "outputs": [],
   "source": [
    "popularity_list = list(md_new['popularity'])"
   ]
  },
  {
   "cell_type": "code",
   "execution_count": 17,
   "metadata": {},
   "outputs": [
    {
     "data": {
      "text/plain": [
       "[<matplotlib.lines.Line2D at 0x7f4274757780>]"
      ]
     },
     "execution_count": 17,
     "metadata": {},
     "output_type": "execute_result"
    },
    {
     "data": {
      "image/png": "[encoded data removed]",
      "text/plain": [
       "<Figure size 432x288 with 1 Axes>"
      ]
     },
     "metadata": {},
     "output_type": "display_data"
    }
   ],
   "source": [
    "#plt.plot( 'x', 'y1', data=df, marker='o', markerfacecolor='blue', markersize=5, color='skyblue', linewidth=1)\n",
    "#plt.plot( 'x', 'y2', data=df, marker='', markerfacecolor='olive', linewidth=1)\n",
    "plt.xlabel('Years')\n",
    "plt.ylabel('Average popularity ')\n",
    "plt.title('Popularity over the years')\n",
    "plt.plot(np.arange(md['release_year'].min(),md['release_year'].max()+1,1),popularity_list , marker='o')"
   ]
  },
  {
   "cell_type": "markdown",
   "metadata": {},
   "source": [
    "The popularity of the movies released after 2012 were high and the popularity grew like anything and over the years popularity has increased for movies but it remained more or less stable till 2012 and the year 1967 saw the least popularity.The popularity of movies released in 2015 were the highest.\n"
   ]
  },
  {
   "cell_type": "markdown",
   "metadata": {},
   "source": [
    "### Genres of movie released"
   ]
  },
  {
   "cell_type": "code",
   "execution_count": 18,
   "metadata": {},
   "outputs": [],
   "source": [
    "genre_list = [] \n",
    "genre_pd = md_tmdb['genres']\n",
    "for row in genre_pd:\n",
    "    genre_list += str(row).split('|')\n",
    "genre_list = list(set(genre_list))"
   ]
  },
  {
   "cell_type": "code",
   "execution_count": 19,
   "metadata": {},
   "outputs": [
    {
     "name": "stdout",
     "output_type": "stream",
     "text": [
      "['Adventure', 'Fantasy', 'Documentary', 'Foreign', 'Science Fiction', 'Crime', 'Family', 'Horror', 'War', 'TV Movie', 'Action', 'Drama', 'Romance', 'Thriller', 'History', 'Comedy', 'Western', 'Music', 'Animation', 'Mystery']\n"
     ]
    },
    {
     "data": {
      "text/plain": [
       "20"
      ]
     },
     "execution_count": 19,
     "metadata": {},
     "output_type": "execute_result"
    }
   ],
   "source": [
    "print(genre_list)\n",
    "len(genre_list)"
   ]
  },
  {
   "cell_type": "markdown",
   "metadata": {},
   "source": [
    "Movies released during the years were of 20 different genres. "
   ]
  },
  {
   "cell_type": "code",
   "execution_count": 20,
   "metadata": {},
   "outputs": [],
   "source": [
    "# this function extracts data from a particular column\n",
    "def extract_data(column_name,framename):\n",
    "    extracted_data = framename[column_name].str.cat(sep = '|') # the data in string is seperated by |\n",
    "    #giving pandas series and storing the values separately\n",
    "    extracted_data = pd.Series(extracted_data.split('|'))\n",
    "    count = extracted_data.value_counts()\n",
    "    return count"
   ]
  },
  {
   "cell_type": "markdown",
   "metadata": {},
   "source": [
    "To find how many of each genres were released"
   ]
  },
  {
   "cell_type": "code",
   "execution_count": 21,
   "metadata": {},
   "outputs": [
    {
     "name": "stdout",
     "output_type": "stream",
     "text": [
      "Drama              1730\n",
      "Comedy             1336\n",
      "Thriller           1194\n",
      "Action             1076\n",
      "Adventure           743\n",
      "Romance             659\n",
      "Crime               649\n",
      "Science Fiction     517\n",
      "Horror              459\n",
      "Family              417\n",
      "Fantasy             395\n",
      "Mystery             343\n",
      "Animation           199\n",
      "Music               131\n",
      "History             128\n",
      "War                 119\n",
      "Western              52\n",
      "Documentary          26\n",
      "Foreign              10\n",
      "TV Movie              1\n",
      "dtype: int64\n"
     ]
    },
    {
     "data": {
      "text/plain": [
       "<matplotlib.axes._subplots.AxesSubplot at 0x7f42745f6ba8>"
      ]
     },
     "execution_count": 21,
     "metadata": {},
     "output_type": "execute_result"
    },
    {
     "data": {
      "image/png": "[encoded data removed]",
      "text/plain": [
       "<Figure size 432x288 with 1 Axes>"
      ]
     },
     "metadata": {},
     "output_type": "display_data"
    }
   ],
   "source": [
    "genre_count = extract_data('genres',md)\n",
    "print(genre_count)\n",
    "plt.ylabel('Number of movies released')\n",
    "plt.xlabel('Genres')\n",
    "plt.title('Genres and their counts')\n",
    "genre_count.plot.bar()"
   ]
  },
  {
   "cell_type": "markdown",
   "metadata": {},
   "source": [
    "From the visualisation we see that most of the movies released during the time period were of Drama and Comedy genres, and the least released were Foreign and Tv Movie genres."
   ]
  },
  {
   "cell_type": "markdown",
   "metadata": {},
   "source": [
    "## Popular movie"
   ]
  },
  {
   "cell_type": "code",
   "execution_count": 22,
   "metadata": {},
   "outputs": [
    {
     "name": "stdout",
     "output_type": "stream",
     "text": [
      "Most popular movie- Jurassic World with rating 32.985763\n",
      "Least popular movie- Ð¡Ñ‚Ð°Ð»Ð¸Ð½Ð³Ñ€Ð°Ð´ with rating 0.010334999999999999\n"
     ]
    }
   ],
   "source": [
    "most_popular = md.loc[md['popularity'].idxmax()]\n",
    "least_popular = md.loc[md['popularity'].idxmin()]\n",
    "print(\"Most popular movie- {} with rating {}\".format(most_popular.original_title,most_popular.popularity))\n",
    "print(\"Least popular movie- {} with rating {}\".format(least_popular.original_title,least_popular.popularity))"
   ]
  },
  {
   "cell_type": "code",
   "execution_count": 23,
   "metadata": {},
   "outputs": [
    {
     "name": "stdout",
     "output_type": "stream",
     "text": [
      "0                              Jurassic World\n",
      "1                          Mad Max: Fury Road\n",
      "629                              Interstellar\n",
      "630                   Guardians of the Galaxy\n",
      "2                                   Insurgent\n",
      "631       Captain America: The Winter Soldier\n",
      "1329                                Star Wars\n",
      "632                                 John Wick\n",
      "3                Star Wars: The Force Awakens\n",
      "633     The Hunger Games: Mockingjay - Part 1\n",
      "Name: original_title, dtype: object\n",
      "Drama              1730\n",
      "Comedy             1336\n",
      "Thriller           1194\n",
      "Action             1076\n",
      "Adventure           743\n",
      "Romance             659\n",
      "Crime               649\n",
      "Science Fiction     517\n",
      "Horror              459\n",
      "Family              417\n",
      "Fantasy             395\n",
      "Mystery             343\n",
      "Animation           199\n",
      "Music               131\n",
      "History             128\n",
      "War                 119\n",
      "Western              52\n",
      "Documentary          26\n",
      "Foreign              10\n",
      "TV Movie              1\n",
      "dtype: int64\n"
     ]
    },
    {
     "data": {
      "text/plain": [
       "<matplotlib.axes._subplots.AxesSubplot at 0x7f42744bfe10>"
      ]
     },
     "execution_count": 23,
     "metadata": {},
     "output_type": "execute_result"
    },
    {
     "data": {
      "image/png": "[encoded data removed]",
      "text/plain": [
       "<Figure size 432x288 with 1 Axes>"
      ]
     },
     "metadata": {},
     "output_type": "display_data"
    }
   ],
   "source": [
    "## Here we are considering only the first 5000 popular movies\n",
    "popular_top = md.nlargest(5000,'popularity')\n",
    "popular_genre = extract_data('genres',popular_top)\n",
    "print(popular_top.head(10).original_title) ## names of the 10 most popular movies\n",
    "print(popular_genre)\n",
    "plt.ylabel('Number of movies')\n",
    "plt.xlabel('Genres')\n",
    "plt.title('Genres vs Popularity')\n",
    "popular_genre.plot.bar()"
   ]
  },
  {
   "cell_type": "markdown",
   "metadata": {},
   "source": [
    "Drama and Comedy were the most popular movie genres."
   ]
  },
  {
   "cell_type": "markdown",
   "metadata": {},
   "source": [
    "## Profitable movies"
   ]
  },
  {
   "cell_type": "code",
   "execution_count": 24,
   "metadata": {},
   "outputs": [],
   "source": [
    "## inserting a new column for finding profit of each movie\n",
    "md_tmdb.insert(5,'profit',md_tmdb['revenue']-md_tmdb['budget'],allow_duplicates=False) #here 5 is the insert position\n",
    "md_tmdb.insert(6,'profit_adj',md_tmdb['revenue_adj']-md_tmdb['budget_adj'],allow_duplicates=False) #here 6 is the insert position"
   ]
  },
  {
   "cell_type": "code",
   "execution_count": 25,
   "metadata": {},
   "outputs": [
    {
     "name": "stdout",
     "output_type": "stream",
     "text": [
      "Most profitable movie- Avatar\n",
      "Least profitable movie- The Warrior's Way\n",
      "Most profitable movie(adj)- Star Wars\n",
      "Least profitable movie(adj)- The Warrior's Way\n"
     ]
    }
   ],
   "source": [
    "#print(md_tmdb.head())\n",
    "print('Most profitable movie- {}'.format(md_tmdb.loc[md_tmdb['profit'].idxmax()].original_title))\n",
    "print('Least profitable movie- {}'.format(md_tmdb.loc[md_tmdb['profit'].idxmin()].original_title))\n",
    "print('Most profitable movie(adj)- {}'.format(md_tmdb.loc[md_tmdb['profit_adj'].idxmax()].original_title))\n",
    "print('Least profitable movie(adj)- {}'.format(md_tmdb.loc[md_tmdb['profit_adj'].idxmin()].original_title))"
   ]
  },
  {
   "cell_type": "markdown",
   "metadata": {},
   "source": [
    "We find that the most profitable movie is 'Avatar' and the least profitable one is 'The Warriors Way'. When adjusted with inflation 'Star Wars' becomes the most profitable movie."
   ]
  },
  {
   "cell_type": "markdown",
   "metadata": {},
   "source": [
    "We do a genres check of the first 5000 profitable movies released during the time period. "
   ]
  },
  {
   "cell_type": "code",
   "execution_count": 26,
   "metadata": {},
   "outputs": [
    {
     "name": "stdout",
     "output_type": "stream",
     "text": [
      "344                                           Avatar\n",
      "3                       Star Wars: The Force Awakens\n",
      "1747                                         Titanic\n",
      "0                                     Jurassic World\n",
      "4                                          Furious 7\n",
      "1469                                    The Avengers\n",
      "1089    Harry Potter and the Deathly Hallows: Part 2\n",
      "14                           Avengers: Age of Ultron\n",
      "1837                                          Frozen\n",
      "2829                                         The Net\n",
      "Name: original_title, dtype: object\n",
      "Drama              1730\n",
      "Comedy             1336\n",
      "Thriller           1194\n",
      "Action             1076\n",
      "Adventure           743\n",
      "Romance             659\n",
      "Crime               649\n",
      "Science Fiction     517\n",
      "Horror              459\n",
      "Family              417\n",
      "Fantasy             395\n",
      "Mystery             343\n",
      "Animation           199\n",
      "Music               131\n",
      "History             128\n",
      "War                 119\n",
      "Western              52\n",
      "Documentary          26\n",
      "Foreign              10\n",
      "TV Movie              1\n",
      "dtype: int64\n"
     ]
    },
    {
     "data": {
      "text/plain": [
       "<matplotlib.axes._subplots.AxesSubplot at 0x7f427519bdd8>"
      ]
     },
     "execution_count": 26,
     "metadata": {},
     "output_type": "execute_result"
    },
    {
     "data": {
      "image/png": "[encoded data removed]",
      "text/plain": [
       "<Figure size 432x288 with 1 Axes>"
      ]
     },
     "metadata": {},
     "output_type": "display_data"
    }
   ],
   "source": [
    "#the first 5000 profitable movies\n",
    "profitable_top = md_tmdb.nlargest(5000,'profit')\n",
    "profitable_genre = extract_data('genres',profitable_top)\n",
    "print(profitable_top.head(10).original_title) ## the 10 most profitable movies\n",
    "print(profitable_genre)\n",
    "plt.ylabel('Number of movies')\n",
    "plt.xlabel('Genres')\n",
    "plt.title('Genres vs Profit')\n",
    "profitable_genre.plot.bar()"
   ]
  },
  {
   "cell_type": "markdown",
   "metadata": {},
   "source": [
    "We see that both popular genres and most profitable movies genres gives almost the same visualisation and mathematical output.This creates a doubt on whether there is any correlation between popular genres and profitable genres. We check for the popularity vs profit dependency."
   ]
  },
  {
   "cell_type": "code",
   "execution_count": 27,
   "metadata": {},
   "outputs": [],
   "source": [
    "md_new.insert(5,'profit',md_new['revenue']-md_new['budget'],allow_duplicates=False) #here 5 is the insert position"
   ]
  },
  {
   "cell_type": "code",
   "execution_count": 28,
   "metadata": {},
   "outputs": [
    {
     "data": {
      "text/plain": [
       "[<matplotlib.lines.Line2D at 0x7f4274662f98>]"
      ]
     },
     "execution_count": 28,
     "metadata": {},
     "output_type": "execute_result"
    },
    {
     "data": {
      "image/png": "[encoded data removed]",
      "text/plain": [
       "<Figure size 432x288 with 1 Axes>"
      ]
     },
     "metadata": {},
     "output_type": "display_data"
    }
   ],
   "source": [
    "profit_list = list(md_new['profit'])\n",
    "popularity_list = list(md_new['popularity'])\n",
    "profit_list.sort()\n",
    "popularity_list.sort()\n",
    "plt.ylabel('Popularity')\n",
    "plt.xlabel('Profit')\n",
    "plt.title('Popularity vs Profit')\n",
    "plt.plot(profit_list,popularity_list)"
   ]
  },
  {
   "cell_type": "markdown",
   "metadata": {},
   "source": [
    "As popularity increases the profit also shows increase even though not in a uniform way.From this we understand that profit generated by a movie is dependant on it's popularity.                                                                \n",
    "Popularity is proportional to the profit made by movie. "
   ]
  },
  {
   "cell_type": "code",
   "execution_count": 29,
   "metadata": {},
   "outputs": [],
   "source": [
    "#Function to plot average variations over time\n",
    "def plot_avg(column):\n",
    "    plt.plot(md_new[column],marker='o')\n",
    "    plt.xlabel('Years')\n",
    "    plt.xticks(np.arange(md['release_year'].min(),md['release_year'].max()+1,5))\n",
    "    plt.ylabel(column+'(1e7)')\n",
    "    plt.title(' Average '+column+ ' over the years')"
   ]
  },
  {
   "cell_type": "code",
   "execution_count": 30,
   "metadata": {},
   "outputs": [
    {
     "data": {
      "image/png": "[encoded data removed]",
      "text/plain": [
       "<Figure size 432x288 with 1 Axes>"
      ]
     },
     "metadata": {},
     "output_type": "display_data"
    }
   ],
   "source": [
    "plot_avg('revenue')"
   ]
  },
  {
   "cell_type": "markdown",
   "metadata": {},
   "source": [
    "The revenue generated has increased over the years, there is no general pattern of revenue generated but the revenue has increased. If you look at the revenue generated during the interval 1960-1965 and the interval 2010-2015 this is clearly visible.The year 1965 saw a huge growth in revenue and the next year was the year with least revenue."
   ]
  },
  {
   "cell_type": "markdown",
   "metadata": {},
   "source": [
    "We want to check how the profits have varied over time."
   ]
  },
  {
   "cell_type": "code",
   "execution_count": 31,
   "metadata": {},
   "outputs": [
    {
     "data": {
      "image/png": "[encoded data removed]",
      "text/plain": [
       "<Figure size 432x288 with 1 Axes>"
      ]
     },
     "metadata": {},
     "output_type": "display_data"
    }
   ],
   "source": [
    "plot_avg('profit')"
   ]
  },
  {
   "cell_type": "markdown",
   "metadata": {},
   "source": [
    "Even though there is no general pattern with profit variation over the years we can say that the years after 2006 had a regular increase in profits.There happened to be a huge growth in profit after 1963 to 1965 and a sudden dip in profit was found next year.The profits started to rise and fall continously and this trend followed till 1980.After 1980 profit growth/loss was not that big for each year."
   ]
  },
  {
   "cell_type": "code",
   "execution_count": 32,
   "metadata": {},
   "outputs": [
    {
     "name": "stdout",
     "output_type": "stream",
     "text": [
      "2015\n",
      "1966\n"
     ]
    }
   ],
   "source": [
    "print(md_new['profit'].idxmax())\n",
    "print(md_new['profit'].idxmin())"
   ]
  },
  {
   "cell_type": "markdown",
   "metadata": {},
   "source": [
    "We find that the year 2015 had maximum profit and year 1966 had minimum profit."
   ]
  },
  {
   "cell_type": "markdown",
   "metadata": {},
   "source": [
    "### __Movies with profit more than 20M __"
   ]
  },
  {
   "cell_type": "code",
   "execution_count": 33,
   "metadata": {},
   "outputs": [
    {
     "name": "stdout",
     "output_type": "stream",
     "text": [
      "Number of movies with profit more than 20M- 1926\n"
     ]
    }
   ],
   "source": [
    "profit_20 = md_tmdb[md_tmdb['profit']>=20000000] \n",
    "print('Number of movies with profit more than 20M- {}'.format(profit_20.shape[0]))"
   ]
  },
  {
   "cell_type": "markdown",
   "metadata": {},
   "source": [
    "### __Number of movies for each actor__ ##"
   ]
  },
  {
   "cell_type": "code",
   "execution_count": 34,
   "metadata": {},
   "outputs": [
    {
     "name": "stdout",
     "output_type": "stream",
     "text": [
      "Robert De Niro        52\n",
      "Bruce Willis          46\n",
      "Samuel L. Jackson     44\n",
      "Nicolas Cage          43\n",
      "Matt Damon            36\n",
      "Johnny Depp           35\n",
      "Tom Hanks             34\n",
      "Brad Pitt             34\n",
      "Sylvester Stallone    34\n",
      "Morgan Freeman        34\n",
      "dtype: int64\n"
     ]
    }
   ],
   "source": [
    "actor_count = extract_data('cast',md)\n",
    "print(actor_count.head(10))"
   ]
  },
  {
   "cell_type": "markdown",
   "metadata": {},
   "source": [
    "## __ Bankable actors __ ##"
   ]
  },
  {
   "cell_type": "code",
   "execution_count": 35,
   "metadata": {},
   "outputs": [
    {
     "name": "stdout",
     "output_type": "stream",
     "text": [
      "Tom Cruise            30\n",
      "Brad Pitt             29\n",
      "Tom Hanks             28\n",
      "Robert De Niro        27\n",
      "Bruce Willis          26\n",
      "Samuel L. Jackson     25\n",
      "Cameron Diaz          24\n",
      "Sylvester Stallone    23\n",
      "Johnny Depp           23\n",
      "Eddie Murphy          23\n",
      "dtype: int64\n"
     ]
    }
   ],
   "source": [
    "actor_profit = extract_data('cast',profit_20)\n",
    "print(actor_profit.head(10)) ##10 most profitable actors over the years"
   ]
  },
  {
   "cell_type": "markdown",
   "metadata": {},
   "source": [
    "## Profitable movie companies"
   ]
  },
  {
   "cell_type": "code",
   "execution_count": 36,
   "metadata": {},
   "outputs": [
    {
     "name": "stdout",
     "output_type": "stream",
     "text": [
      "Universal Pictures                        212\n",
      "Warner Bros.                              201\n",
      "Paramount Pictures                        168\n",
      "Twentieth Century Fox Film Corporation    147\n",
      "Columbia Pictures                         118\n",
      "New Line Cinema                            95\n",
      "Walt Disney Pictures                       86\n",
      "Relativity Media                           68\n",
      "Touchstone Pictures                        63\n",
      "Columbia Pictures Corporation              63\n",
      "dtype: int64\n"
     ]
    }
   ],
   "source": [
    "company_profit = extract_data('production_companies',profit_20)\n",
    "print(company_profit.head(10))  ##10 most profitable companies"
   ]
  },
  {
   "cell_type": "markdown",
   "metadata": {},
   "source": [
    " ### Movie genres with profit greater than 20M"
   ]
  },
  {
   "cell_type": "code",
   "execution_count": 37,
   "metadata": {},
   "outputs": [
    {
     "name": "stdout",
     "output_type": "stream",
     "text": [
      "Drama              756\n",
      "Comedy             692\n",
      "Action             600\n",
      "Thriller           588\n",
      "Adventure          471\n",
      "Romance            316\n",
      "Crime              310\n",
      "Family             274\n",
      "Science Fiction    270\n",
      "Fantasy            235\n",
      "Horror             215\n",
      "Mystery            162\n",
      "Animation          137\n",
      "Music               68\n",
      "History             66\n",
      "War                 64\n",
      "Western             20\n",
      "Documentary          9\n",
      "TV Movie             1\n",
      "dtype: int64\n"
     ]
    },
    {
     "data": {
      "text/plain": [
       "<matplotlib.axes._subplots.AxesSubplot at 0x7f4274cf2908>"
      ]
     },
     "execution_count": 37,
     "metadata": {},
     "output_type": "execute_result"
    },
    {
     "data": {
      "image/png": "[encoded data removed]",
      "text/plain": [
       "<Figure size 432x288 with 1 Axes>"
      ]
     },
     "metadata": {},
     "output_type": "display_data"
    }
   ],
   "source": [
    "genre_profit = extract_data('genres',profit_20)\n",
    "print(genre_profit)\n",
    "plt.ylabel('Number of movies released')\n",
    "plt.xlabel('Genres')\n",
    "plt.title('Genre count with profit>20M')\n",
    "genre_profit.plot.bar()"
   ]
  },
  {
   "cell_type": "markdown",
   "metadata": {},
   "source": [
    "We find that the graph is similar to the graph we had plotted earlier. We also find that of the movies which had profit greater than 20M most of them were Drama or Comedy.Thus we can conclude without any doubt that over the time the most profitable and liked genres are Drama and Comedy."
   ]
  },
  {
   "cell_type": "markdown",
   "metadata": {},
   "source": [
    "# Conclusion #"
   ]
  },
  {
   "cell_type": "markdown",
   "metadata": {},
   "source": [
    "I would like to wrap my analysis in the following way:\n",
    "    * Over the years there has been a pattern for the runtime,revenue,popularity and profit generated.\n",
    "    * Runtimes were mostly in between 107 & 109.\n",
    "    * Revenues varied widely over the years but most of the revenues were between 0.8e+07 to 1.0e+08.\n",
    "    * Popularity of movies released lately were comparitively higher than those released in the past,the popularity of movies has also increased over the years.\n",
    "    * Both Revenue and Profit of movies has increased over time.\n",
    "    * The most popular movies were of genres Drama and Comedy, most movies released were also of Drama and Comedy genres.\n",
    "    * Movies starring actors Tom Cruise,Brad-pitt,Tom Hanks and a few others made huge profit.From this we can say that these actors have more fan base than the rest.\n",
    "    * Universal Pictures and Warner Bros. saw high profits.\n",
    "    * Of the movies which made huge profits most of them were of Drama and Comedy genres.\n",
    "So there is a high chance of making profit if the movie is produced by Universal Pictures or Warner Bros. and has Tom Hanks or Tom Cruise or Brad-pitt and if the genres are drama and comedy."
   ]
  },
  {
   "cell_type": "markdown",
   "metadata": {},
   "source": [
    "# Limitations"
   ]
  },
  {
   "cell_type": "markdown",
   "metadata": {},
   "source": [
    "* The chance of making high profits is not completely dependant on this as there are a lot of other factors and there may be many films of the actors not present in the dataset.\n",
    "* The medium through which popularity was determined is unknown. This can impact the analysis as the limitations and bias inherent while gauging audience response will be present in the end values too.\n",
    "* For finding relationship with profit we have taken only movies withprofit greater than 20M.\n",
    "* We have many missing values of cast and production companies so we cannot conlude about the profitable companies and actors.\n",
    "* There are movies of different languages in the dataset and the revenue each recieved is also dependent on the language and region the movie comes from. The unit of revenue has not been specified,assumed the revenue and budget to be in units of Dollars."
   ]
  },
  {
   "cell_type": "code",
   "execution_count": null,
   "metadata": {},
   "outputs": [],
   "source": []
  }
 ],
 "metadata": {
  "kernelspec": {
   "display_name": "Python [conda env:anaconda3]",
   "language": "python",
   "name": "conda-env-anaconda3-py"
  },
  "language_info": {
   "codemirror_mode": {
    "name": "ipython",
    "version": 3
   },
   "file_extension": ".py",
   "mimetype": "text/x-python",
   "name": "python",
   "nbconvert_exporter": "python",
   "pygments_lexer": "ipython3",
   "version": "3.6.5"
  }
 },
 "nbformat": 4,
 "nbformat_minor": 2
}
